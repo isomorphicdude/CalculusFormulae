{
 "cells": [
  {
   "cell_type": "code",
   "execution_count": 5,
   "metadata": {},
   "outputs": [],
   "source": [
    "import fileinput\n",
    "import argparse\n",
    "\n",
    "# dictionary\n",
    "myDict = {'≤':'\\leq','⊕':'\\oplus','⊘':'\\oslash ','σ':'\\sigma', \\\n",
    "    '≠':'\\neq', '⊖':'\\ominus', '⊗':'\\otimes', 'δ':'\\delta', 'ϵ': '\\epsilon', '≈':'\\approx', \\\n",
    "        '𝐱':'\\mathbf{x}', '𝐯':'\\mathbf{v}', '𝐞':'\\mathbf{e}','𝐲':'\\mathbf{y}', '∈':'\\in', 'ℝ':'\\mathbb{R}'}"
   ]
  },
  {
   "cell_type": "code",
   "execution_count": 7,
   "metadata": {},
   "outputs": [],
   "source": [
    "# read in the file\n",
    "filename = \"newPS.rmarkdown\"\n",
    "with  open(filename, encoding='utf-8') as infile, open('newPS2.rmarkdown', 'w', encoding='utf-8') as outfile:\n",
    "    for line in infile:\n",
    "        for old, new in myDict.items():\n",
    "            line = line.replace(old, new)\n",
    "        outfile.write(line)"
   ]
  },
  {
   "cell_type": "code",
   "execution_count": null,
   "metadata": {},
   "outputs": [],
   "source": []
  }
 ],
 "metadata": {
  "interpreter": {
   "hash": "a3f9fbbaa18250e09d861f666ab05e97085a7241115cb1945ae796667bcb838e"
  },
  "kernelspec": {
   "display_name": "Python 3.8.12 ('base')",
   "language": "python",
   "name": "python3"
  },
  "language_info": {
   "codemirror_mode": {
    "name": "ipython",
    "version": 3
   },
   "file_extension": ".py",
   "mimetype": "text/x-python",
   "name": "python",
   "nbconvert_exporter": "python",
   "pygments_lexer": "ipython3",
   "version": "3.8.12"
  },
  "orig_nbformat": 4
 },
 "nbformat": 4,
 "nbformat_minor": 2
}
