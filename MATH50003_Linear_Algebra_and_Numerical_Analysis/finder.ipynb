{
 "cells": [
  {
   "cell_type": "code",
   "execution_count": 1,
   "metadata": {},
   "outputs": [],
   "source": [
    "# dictionary\n",
    "myDict = {'≤':'\\leq','⊕':'\\oplus','⊘':'\\oslash ','σ':'\\sigma', \\\n",
    "    '≠':'\\neq', '⊖':'\\ominus', '⊗':'\\otimes', 'δ':'\\delta', 'ϵ': '\\epsilon', '≈':'\\approx', \\\n",
    "        '𝐱':'\\mathbf{x}', '𝐯':'\\mathbf{v}', '𝐞':'\\mathbf{e}','𝐲':'\\mathbf{y}', '∈':'\\in', 'ℝ':'\\mathbb{R}'}"
   ]
  },
  {
   "cell_type": "code",
   "execution_count": 3,
   "metadata": {},
   "outputs": [],
   "source": [
    "# read in the file\n",
    "# replacing the unicode characters (actuallly not necessary)\n",
    "filename = \"newPS.rmarkdown\"\n",
    "with  open(filename, encoding='utf-8') as infile, open('newPS2.rmarkdown', 'w', encoding='utf-8') as outfile:\n",
    "    for line in infile:\n",
    "        for old, new in myDict.items():\n",
    "            line = line.replace(old, new)\n",
    "        outfile.write(line)"
   ]
  },
  {
   "cell_type": "code",
   "execution_count": 52,
   "metadata": {},
   "outputs": [],
   "source": [
    "# A function that replaces matches of string with appropriate colorings\n",
    "\n",
    "fpDict = {16:[15,5,10], 32:[127,8,23], 64:[1023,11,52]}\n",
    "\n",
    "def colorBits(match):\n",
    "    '''Returns a copy of colored string from rergex match.\n",
    "    '''\n",
    "    str = match.group(0)\n",
    "    arr = list(str)\n",
    "    l = len(arr) # determine bit length\n",
    "    Q = fpDict[l-2][1]\n",
    "    S = fpDict[l-2][2]\n",
    "\n",
    "    sign_bit = [r'$\\color{red}{', arr[1], r'}'] # string with escape character\n",
    "    expo_bit = [r'\\color{green}{'] + arr[1:Q+1] + [r'}']\n",
    "    mantissa = [r'\\color{blue}{'] + arr[Q+1:l-1] + [r'}$']\n",
    "\n",
    "    return ''.join(sign_bit+expo_bit+mantissa)"
   ]
  },
  {
   "cell_type": "code",
   "execution_count": 21,
   "metadata": {},
   "outputs": [
    {
     "name": "stdout",
     "output_type": "stream",
     "text": [
      "$\\color{red}{0}\\color{green}{01110010}\\color{blue}{101110000000000000000000}$\n"
     ]
    }
   ],
   "source": [
    "colorBits(\"$01110010101110000000000000000000$\")"
   ]
  },
  {
   "cell_type": "markdown",
   "metadata": {},
   "source": [
    "Just to test $\\color{red}{0}\\color{green}{01110010}\\color{blue}{101110000000000000000000}$"
   ]
  },
  {
   "cell_type": "code",
   "execution_count": 53,
   "metadata": {},
   "outputs": [
    {
     "name": "stdout",
     "output_type": "stream",
     "text": [
      "$01000000101110000000000000000000$\n",
      "$\\color{red}{0}\\color{green}{01000000}\\color{blue}{101110000000000000000000}$\n"
     ]
    }
   ],
   "source": [
    "# regular expression stuff\n",
    "import re\n",
    "text = \"an $01000000101110000000000000000000$  $1000001$\"\n",
    "\n",
    "pattern = re.compile(r'([$])+([0,1]{16,})([$])') #ensures at least 32-bit\n",
    "\n",
    "matches  = pattern.finditer(text)\n",
    "for match in matches:\n",
    "    print(match.group(0))\n",
    "    print(colorBits(match))\n"
   ]
  },
  {
   "cell_type": "code",
   "execution_count": 69,
   "metadata": {},
   "outputs": [
    {
     "name": "stdout",
     "output_type": "stream",
     "text": [
      "and $132 = (10000100)_2$ hence: $\\color{red}{0}\\color{green}{01000010}\\color{blue}{000000000000000000000000}$  \n"
     ]
    }
   ],
   "source": [
    "# Use re.sub function\n",
    "original = \"and $132 = (10000100)_2$ hence: $01000010000000000000000000000000$  \"\n",
    "replaced = re.sub(r'([$])+([0,1]{16,})([$])', colorBits, original)\n",
    "print(replaced)"
   ]
  },
  {
   "cell_type": "code",
   "execution_count": 71,
   "metadata": {},
   "outputs": [],
   "source": [
    "with open('newPS2.rmarkdown', 'r', encoding=\"utf-8\") as f:\n",
    "    contents = f.read()\n",
    "    replaced = re.sub(r'([$])+([0,1]{16,})([$])', colorBits, contents)\n",
    "\n",
    "with open('PSCollection.markdown', 'w') as g:\n",
    "    g.write(replaced)"
   ]
  },
  {
   "cell_type": "code",
   "execution_count": null,
   "metadata": {},
   "outputs": [],
   "source": []
  }
 ],
 "metadata": {
  "interpreter": {
   "hash": "a3f9fbbaa18250e09d861f666ab05e97085a7241115cb1945ae796667bcb838e"
  },
  "kernelspec": {
   "display_name": "Python 3.8.12 ('base')",
   "language": "python",
   "name": "python3"
  },
  "language_info": {
   "codemirror_mode": {
    "name": "ipython",
    "version": 3
   },
   "file_extension": ".py",
   "mimetype": "text/x-python",
   "name": "python",
   "nbconvert_exporter": "python",
   "pygments_lexer": "ipython3",
   "version": "3.8.12"
  },
  "orig_nbformat": 4
 },
 "nbformat": 4,
 "nbformat_minor": 2
}
