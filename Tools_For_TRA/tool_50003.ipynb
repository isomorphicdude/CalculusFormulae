{
 "cells": [
  {
   "cell_type": "markdown",
   "metadata": {},
   "source": [
    "# Using `Sage` for Computing Stuff"
   ]
  },
  {
   "cell_type": "code",
   "execution_count": 1,
   "metadata": {},
   "outputs": [],
   "source": [
    "%display latex\n",
    "latex.matrix_delimiters(\"[\", \"]\")\n",
    "from sage.manifolds import *"
   ]
  },
  {
   "cell_type": "markdown",
   "metadata": {},
   "source": [
    "## Canonical Forms in Linear Algebra"
   ]
  },
  {
   "cell_type": "markdown",
   "metadata": {},
   "source": [
    "Given a matrix $A$, we wish to compute its \n",
    "- (right) Kernel $\\ker A$  \n",
    "\n",
    "- Characteristic polynomial $c_A(x)$  \n",
    "\n",
    "- Minimal polynomial $m_A(x)$  \n",
    "\n",
    "- Eigenvalues&eigenvectors   \n",
    "\n",
    "- Jordan Canonical Form $J$ and $T$, such that $J=T^{-1}AT$  \n",
    "\n",
    "- Rational canonical form $C$"
   ]
  },
  {
   "cell_type": "markdown",
   "metadata": {},
   "source": [
    "### Matrix Input  \n",
    "\n",
    "It's desirable to copy and past the matrix from a PDF document. We can compute the aforementioned things following the steps below.  \n",
    "- Copy and paste the matrix into the `input`\n",
    "- Run the cells sequentially  \n",
    "\n",
    "The following example is taken from Term1 PS7 Q3.  "
   ]
  },
  {
   "cell_type": "code",
   "execution_count": 36,
   "metadata": {
    "scrolled": true
   },
   "outputs": [
    {
     "name": "stdout",
     "output_type": "stream",
     "text": [
      "Enter the array:\n",
      "\n",
      "0 1 0 1 0 0 0 1 1 0 0 0 0 0 1 0 0 0 0 1 0 0 0 0 0\n",
      "[0 1 0 1 0]\n",
      "[0 0 1 1 0]\n",
      "[0 0 0 0 1]\n",
      "[0 0 0 0 1]\n",
      "[0 0 0 0 0]\n"
     ]
    }
   ],
   "source": [
    "print(\"Enter the array:\\n\")   \n",
    "\n",
    "userInput0 = input().splitlines()\n",
    "\n",
    "myseq = userInput0[0]\n",
    "\n",
    "myseq=myseq.replace('−', '-')\n",
    "\n",
    "myseq1 = myseq.split(' ')\n",
    "\n",
    "size=len(myseq1)\n",
    "\n",
    "n=ceil(sqrt(size))\n",
    "\n",
    "myseq2 = [myseq1[i:i+n] for i in range(0,size-1,n)]\n",
    "\n",
    "#This is the final 2D array\n",
    "myseq3 = [list(map(int, i)) for i in myseq2]\n",
    "A = matrix(myseq3)\n",
    "print(A)"
   ]
  },
  {
   "cell_type": "markdown",
   "metadata": {},
   "source": [
    "Computing the **kernel**"
   ]
  },
  {
   "cell_type": "code",
   "execution_count": 37,
   "metadata": {},
   "outputs": [
    {
     "data": {
      "text/html": [
       "<html><script type=\"math/tex; mode=display\">\\newcommand{\\Bold}[1]{\\mathbf{#1}}\\mathrm{RowSpan}_{\\Bold{Z}}\\left[\\begin{array}{rrrrr}\n",
       "1 & 0 & 0 & 0 & 0 \\\\\n",
       "0 & 1 & 1 & -1 & 0\n",
       "\\end{array}\\right]</script></html>"
      ],
      "text/latex": [
       "$$\\newcommand{\\Bold}[1]{\\mathbf{#1}}\\mathrm{RowSpan}_{\\Bold{Z}}\\left[\\begin{array}{rrrrr}\n",
       "1 & 0 & 0 & 0 & 0 \\\\\n",
       "0 & 1 & 1 & -1 & 0\n",
       "\\end{array}\\right]$$"
      ],
      "text/plain": [
       "Free module of degree 5 and rank 2 over Integer Ring\n",
       "Echelon basis matrix:\n",
       "[ 1  0  0  0  0]\n",
       "[ 0  1  1 -1  0]"
      ]
     },
     "execution_count": 37,
     "metadata": {},
     "output_type": "execute_result"
    }
   ],
   "source": [
    "A.right_kernel()"
   ]
  },
  {
   "cell_type": "markdown",
   "metadata": {},
   "source": [
    "### **Computing the characteristic polynomial and its irreducible factors**"
   ]
  },
  {
   "cell_type": "code",
   "execution_count": 38,
   "metadata": {},
   "outputs": [
    {
     "data": {
      "text/html": [
       "<html><script type=\"math/tex; mode=display\">\\newcommand{\\Bold}[1]{\\mathbf{#1}}x^{5}</script></html>"
      ],
      "text/latex": [
       "$$\\newcommand{\\Bold}[1]{\\mathbf{#1}}x^{5}$$"
      ],
      "text/plain": [
       "x^5"
      ]
     },
     "execution_count": 38,
     "metadata": {},
     "output_type": "execute_result"
    }
   ],
   "source": [
    "c = A.characteristic_polynomial()\n",
    "c"
   ]
  },
  {
   "cell_type": "code",
   "execution_count": 39,
   "metadata": {
    "scrolled": true
   },
   "outputs": [
    {
     "data": {
      "text/html": [
       "<html><script type=\"math/tex; mode=display\">\\newcommand{\\Bold}[1]{\\mathbf{#1}}x^{5}</script></html>"
      ],
      "text/latex": [
       "$$\\newcommand{\\Bold}[1]{\\mathbf{#1}}x^{5}$$"
      ],
      "text/plain": [
       "x^5"
      ]
     },
     "execution_count": 39,
     "metadata": {},
     "output_type": "execute_result"
    }
   ],
   "source": [
    "A.characteristic_polynomial().factor()"
   ]
  },
  {
   "cell_type": "markdown",
   "metadata": {},
   "source": [
    "### **Computing the eigenvalues&eigenvectors**"
   ]
  },
  {
   "cell_type": "code",
   "execution_count": 40,
   "metadata": {},
   "outputs": [
    {
     "data": {
      "text/html": [
       "<html><script type=\"math/tex; mode=display\">\\newcommand{\\Bold}[1]{\\mathbf{#1}}\\left[\\left(0, \\mathrm{RowSpan}_{\\Bold{Q}}\\left[\\begin{array}{rrrrr}\n",
       "1 & 0 & 0 & 0 & 0 \\\\\n",
       "0 & 1 & 1 & -1 & 0\n",
       "\\end{array}\\right]\\right)\\right]</script></html>"
      ],
      "text/latex": [
       "$$\\newcommand{\\Bold}[1]{\\mathbf{#1}}\\left[\\left(0, \\mathrm{RowSpan}_{\\Bold{Q}}\\left[\\begin{array}{rrrrr}\n",
       "1 & 0 & 0 & 0 & 0 \\\\\n",
       "0 & 1 & 1 & -1 & 0\n",
       "\\end{array}\\right]\\right)\\right]$$"
      ],
      "text/plain": [
       "[\n",
       "(0, Vector space of degree 5 and dimension 2 over Rational Field\n",
       "User basis matrix:\n",
       "[ 1  0  0  0  0]\n",
       "[ 0  1  1 -1  0])\n",
       "]"
      ]
     },
     "execution_count": 40,
     "metadata": {},
     "output_type": "execute_result"
    }
   ],
   "source": [
    "A.eigenspaces_right()"
   ]
  },
  {
   "cell_type": "code",
   "execution_count": 41,
   "metadata": {},
   "outputs": [
    {
     "data": {
      "text/html": [
       "<html><script type=\"math/tex; mode=display\">\\newcommand{\\Bold}[1]{\\mathbf{#1}}\\left[\\left(0, \\left[\\left(1,\\,0,\\,0,\\,0,\\,0\\right), \\left(0,\\,1,\\,1,\\,-1,\\,0\\right)\\right], 5\\right)\\right]</script></html>"
      ],
      "text/latex": [
       "$$\\newcommand{\\Bold}[1]{\\mathbf{#1}}\\left[\\left(0, \\left[\\left(1,\\,0,\\,0,\\,0,\\,0\\right), \\left(0,\\,1,\\,1,\\,-1,\\,0\\right)\\right], 5\\right)\\right]$$"
      ],
      "text/plain": [
       "[(0,\n",
       "  [\n",
       "  (1, 0, 0, 0, 0),\n",
       "  (0, 1, 1, -1, 0)\n",
       "  ],\n",
       "  5)]"
      ]
     },
     "execution_count": 41,
     "metadata": {},
     "output_type": "execute_result"
    }
   ],
   "source": [
    "A.eigenvectors_right()"
   ]
  },
  {
   "cell_type": "code",
   "execution_count": 42,
   "metadata": {
    "scrolled": true
   },
   "outputs": [
    {
     "data": {
      "text/html": [
       "<html><script type=\"math/tex; mode=display\">\\newcommand{\\Bold}[1]{\\mathbf{#1}}\\left(\\left[\\begin{array}{rrrrr}\n",
       "0 & 0 & 0 & 0 & 0 \\\\\n",
       "0 & 0 & 0 & 0 & 0 \\\\\n",
       "0 & 0 & 0 & 0 & 0 \\\\\n",
       "0 & 0 & 0 & 0 & 0 \\\\\n",
       "0 & 0 & 0 & 0 & 0\n",
       "\\end{array}\\right], \\left[\\begin{array}{rrrrr}\n",
       "1 & 0 & 0 & 0 & 0 \\\\\n",
       "0 & 1 & 0 & 0 & 0 \\\\\n",
       "0 & 1 & 0 & 0 & 0 \\\\\n",
       "0 & -1 & 0 & 0 & 0 \\\\\n",
       "0 & 0 & 0 & 0 & 0\n",
       "\\end{array}\\right]\\right)</script></html>"
      ],
      "text/latex": [
       "$$\\newcommand{\\Bold}[1]{\\mathbf{#1}}\\left(\\left[\\begin{array}{rrrrr}\n",
       "0 & 0 & 0 & 0 & 0 \\\\\n",
       "0 & 0 & 0 & 0 & 0 \\\\\n",
       "0 & 0 & 0 & 0 & 0 \\\\\n",
       "0 & 0 & 0 & 0 & 0 \\\\\n",
       "0 & 0 & 0 & 0 & 0\n",
       "\\end{array}\\right], \\left[\\begin{array}{rrrrr}\n",
       "1 & 0 & 0 & 0 & 0 \\\\\n",
       "0 & 1 & 0 & 0 & 0 \\\\\n",
       "0 & 1 & 0 & 0 & 0 \\\\\n",
       "0 & -1 & 0 & 0 & 0 \\\\\n",
       "0 & 0 & 0 & 0 & 0\n",
       "\\end{array}\\right]\\right)$$"
      ],
      "text/plain": [
       "(\n",
       "[0 0 0 0 0]  [ 1  0  0  0  0]\n",
       "[0 0 0 0 0]  [ 0  1  0  0  0]\n",
       "[0 0 0 0 0]  [ 0  1  0  0  0]\n",
       "[0 0 0 0 0]  [ 0 -1  0  0  0]\n",
       "[0 0 0 0 0], [ 0  0  0  0  0]\n",
       ")"
      ]
     },
     "execution_count": 42,
     "metadata": {},
     "output_type": "execute_result"
    }
   ],
   "source": [
    "A.eigenmatrix_right()"
   ]
  },
  {
   "cell_type": "markdown",
   "metadata": {},
   "source": [
    "### **Computing the minimal polynomial**"
   ]
  },
  {
   "cell_type": "code",
   "execution_count": 43,
   "metadata": {},
   "outputs": [
    {
     "data": {
      "text/html": [
       "<html><script type=\"math/tex; mode=display\">\\newcommand{\\Bold}[1]{\\mathbf{#1}}x^{4}</script></html>"
      ],
      "text/latex": [
       "$$\\newcommand{\\Bold}[1]{\\mathbf{#1}}x^{4}$$"
      ],
      "text/plain": [
       "x^4"
      ]
     },
     "execution_count": 43,
     "metadata": {},
     "output_type": "execute_result"
    }
   ],
   "source": [
    "m = A.minimal_polynomial()\n",
    "m"
   ]
  },
  {
   "cell_type": "code",
   "execution_count": 44,
   "metadata": {},
   "outputs": [
    {
     "data": {
      "text/html": [
       "<html><script type=\"math/tex; mode=display\">\\newcommand{\\Bold}[1]{\\mathbf{#1}}x^{4}</script></html>"
      ],
      "text/latex": [
       "$$\\newcommand{\\Bold}[1]{\\mathbf{#1}}x^{4}$$"
      ],
      "text/plain": [
       "x^4"
      ]
     },
     "execution_count": 44,
     "metadata": {},
     "output_type": "execute_result"
    }
   ],
   "source": [
    "m.factor()"
   ]
  },
  {
   "cell_type": "code",
   "execution_count": 45,
   "metadata": {
    "scrolled": true
   },
   "outputs": [
    {
     "data": {
      "text/html": [
       "<html><script type=\"math/tex; mode=display\">\\newcommand{\\Bold}[1]{\\mathbf{#1}}x^{5}</script></html>"
      ],
      "text/latex": [
       "$$\\newcommand{\\Bold}[1]{\\mathbf{#1}}x^{5}$$"
      ],
      "text/plain": [
       "x^5"
      ]
     },
     "execution_count": 45,
     "metadata": {},
     "output_type": "execute_result"
    }
   ],
   "source": [
    "# Comparing with c(x)\n",
    "c"
   ]
  },
  {
   "cell_type": "markdown",
   "metadata": {},
   "source": [
    "### **Computing the JCF**"
   ]
  },
  {
   "cell_type": "code",
   "execution_count": 46,
   "metadata": {},
   "outputs": [],
   "source": [
    "# use sympy instead\n",
    "from sympy import Matrix\n",
    "import numpy as np"
   ]
  },
  {
   "cell_type": "code",
   "execution_count": 47,
   "metadata": {},
   "outputs": [],
   "source": [
    "T,J = Matrix(A).jordan_form() # using Sympy"
   ]
  },
  {
   "cell_type": "code",
   "execution_count": 48,
   "metadata": {},
   "outputs": [
    {
     "data": {
      "text/html": [
       "<html><script type=\"math/tex; mode=display\">\\newcommand{\\Bold}[1]{\\mathbf{#1}}\\begin{array}{l}\n",
       "\\verb|[[2|\\phantom{\\verb!x!}\\verb|1|\\phantom{\\verb!x!}\\verb|0|\\phantom{\\verb!x!}\\verb|0|\\phantom{\\verb!x!}\\verb|0]|\\\\\n",
       "\\phantom{\\verb!x!}\\verb|[0|\\phantom{\\verb!x!}\\verb|2|\\phantom{\\verb!x!}\\verb|0|\\phantom{\\verb!x!}\\verb|0|\\phantom{\\verb!x!}\\verb|-1]|\\\\\n",
       "\\phantom{\\verb!x!}\\verb|[0|\\phantom{\\verb!x!}\\verb|0|\\phantom{\\verb!x!}\\verb|1|\\phantom{\\verb!x!}\\verb|0|\\phantom{\\verb!x!}\\verb|-1]|\\\\\n",
       "\\phantom{\\verb!x!}\\verb|[0|\\phantom{\\verb!x!}\\verb|0|\\phantom{\\verb!x!}\\verb|1|\\phantom{\\verb!x!}\\verb|0|\\phantom{\\verb!x!}\\verb|1]|\\\\\n",
       "\\phantom{\\verb!x!}\\verb|[0|\\phantom{\\verb!x!}\\verb|0|\\phantom{\\verb!x!}\\verb|0|\\phantom{\\verb!x!}\\verb|1|\\phantom{\\verb!x!}\\verb|0]]|\n",
       "\\end{array}</script></html>"
      ],
      "text/latex": [
       "$$\\newcommand{\\Bold}[1]{\\mathbf{#1}}\\begin{array}{l}\n",
       "\\verb|[[2|\\phantom{\\verb!x!}\\verb|1|\\phantom{\\verb!x!}\\verb|0|\\phantom{\\verb!x!}\\verb|0|\\phantom{\\verb!x!}\\verb|0]|\\\\\n",
       "\\phantom{\\verb!x!}\\verb|[0|\\phantom{\\verb!x!}\\verb|2|\\phantom{\\verb!x!}\\verb|0|\\phantom{\\verb!x!}\\verb|0|\\phantom{\\verb!x!}\\verb|-1]|\\\\\n",
       "\\phantom{\\verb!x!}\\verb|[0|\\phantom{\\verb!x!}\\verb|0|\\phantom{\\verb!x!}\\verb|1|\\phantom{\\verb!x!}\\verb|0|\\phantom{\\verb!x!}\\verb|-1]|\\\\\n",
       "\\phantom{\\verb!x!}\\verb|[0|\\phantom{\\verb!x!}\\verb|0|\\phantom{\\verb!x!}\\verb|1|\\phantom{\\verb!x!}\\verb|0|\\phantom{\\verb!x!}\\verb|1]|\\\\\n",
       "\\phantom{\\verb!x!}\\verb|[0|\\phantom{\\verb!x!}\\verb|0|\\phantom{\\verb!x!}\\verb|0|\\phantom{\\verb!x!}\\verb|1|\\phantom{\\verb!x!}\\verb|0]]|\n",
       "\\end{array}$$"
      ],
      "text/plain": [
       "array([[2, 1, 0, 0, 0],\n",
       "       [0, 2, 0, 0, -1],\n",
       "       [0, 0, 1, 0, -1],\n",
       "       [0, 0, 1, 0, 1],\n",
       "       [0, 0, 0, 1, 0]], dtype=object)"
      ]
     },
     "execution_count": 48,
     "metadata": {},
     "output_type": "execute_result"
    }
   ],
   "source": [
    "T = np.array(T)\n",
    "T"
   ]
  },
  {
   "cell_type": "code",
   "execution_count": 49,
   "metadata": {
    "scrolled": false
   },
   "outputs": [
    {
     "data": {
      "text/html": [
       "<html><script type=\"math/tex; mode=display\">\\newcommand{\\Bold}[1]{\\mathbf{#1}}\\begin{array}{l}\n",
       "\\verb|[[0|\\phantom{\\verb!x!}\\verb|1|\\phantom{\\verb!x!}\\verb|0|\\phantom{\\verb!x!}\\verb|0|\\phantom{\\verb!x!}\\verb|0]|\\\\\n",
       "\\phantom{\\verb!x!}\\verb|[0|\\phantom{\\verb!x!}\\verb|0|\\phantom{\\verb!x!}\\verb|1|\\phantom{\\verb!x!}\\verb|0|\\phantom{\\verb!x!}\\verb|0]|\\\\\n",
       "\\phantom{\\verb!x!}\\verb|[0|\\phantom{\\verb!x!}\\verb|0|\\phantom{\\verb!x!}\\verb|0|\\phantom{\\verb!x!}\\verb|1|\\phantom{\\verb!x!}\\verb|0]|\\\\\n",
       "\\phantom{\\verb!x!}\\verb|[0|\\phantom{\\verb!x!}\\verb|0|\\phantom{\\verb!x!}\\verb|0|\\phantom{\\verb!x!}\\verb|0|\\phantom{\\verb!x!}\\verb|0]|\\\\\n",
       "\\phantom{\\verb!x!}\\verb|[0|\\phantom{\\verb!x!}\\verb|0|\\phantom{\\verb!x!}\\verb|0|\\phantom{\\verb!x!}\\verb|0|\\phantom{\\verb!x!}\\verb|0]]|\n",
       "\\end{array}</script></html>"
      ],
      "text/latex": [
       "$$\\newcommand{\\Bold}[1]{\\mathbf{#1}}\\begin{array}{l}\n",
       "\\verb|[[0|\\phantom{\\verb!x!}\\verb|1|\\phantom{\\verb!x!}\\verb|0|\\phantom{\\verb!x!}\\verb|0|\\phantom{\\verb!x!}\\verb|0]|\\\\\n",
       "\\phantom{\\verb!x!}\\verb|[0|\\phantom{\\verb!x!}\\verb|0|\\phantom{\\verb!x!}\\verb|1|\\phantom{\\verb!x!}\\verb|0|\\phantom{\\verb!x!}\\verb|0]|\\\\\n",
       "\\phantom{\\verb!x!}\\verb|[0|\\phantom{\\verb!x!}\\verb|0|\\phantom{\\verb!x!}\\verb|0|\\phantom{\\verb!x!}\\verb|1|\\phantom{\\verb!x!}\\verb|0]|\\\\\n",
       "\\phantom{\\verb!x!}\\verb|[0|\\phantom{\\verb!x!}\\verb|0|\\phantom{\\verb!x!}\\verb|0|\\phantom{\\verb!x!}\\verb|0|\\phantom{\\verb!x!}\\verb|0]|\\\\\n",
       "\\phantom{\\verb!x!}\\verb|[0|\\phantom{\\verb!x!}\\verb|0|\\phantom{\\verb!x!}\\verb|0|\\phantom{\\verb!x!}\\verb|0|\\phantom{\\verb!x!}\\verb|0]]|\n",
       "\\end{array}$$"
      ],
      "text/plain": [
       "array([[0, 1, 0, 0, 0],\n",
       "       [0, 0, 1, 0, 0],\n",
       "       [0, 0, 0, 1, 0],\n",
       "       [0, 0, 0, 0, 0],\n",
       "       [0, 0, 0, 0, 0]], dtype=object)"
      ]
     },
     "execution_count": 49,
     "metadata": {},
     "output_type": "execute_result"
    }
   ],
   "source": [
    "J = np.array(J)\n",
    "J"
   ]
  },
  {
   "cell_type": "markdown",
   "metadata": {},
   "source": [
    "### Computing the JCF in Finite Fields"
   ]
  },
  {
   "cell_type": "code",
   "execution_count": 53,
   "metadata": {},
   "outputs": [],
   "source": [
    "J,T = A.jordan_form(FiniteField(2),transformation=True) # using Sage"
   ]
  },
  {
   "cell_type": "code",
   "execution_count": 54,
   "metadata": {},
   "outputs": [
    {
     "data": {
      "text/html": [
       "<html><script type=\"math/tex; mode=display\">\\newcommand{\\Bold}[1]{\\mathbf{#1}}\\left[\\begin{array}{rrrrr}\n",
       "1 & 0 & 0 & 0 & 0 \\\\\n",
       "0 & 1 & 0 & 1 & 0 \\\\\n",
       "0 & 0 & 1 & 1 & 1 \\\\\n",
       "0 & 0 & 0 & 1 & 0 \\\\\n",
       "0 & 0 & 0 & 0 & 1\n",
       "\\end{array}\\right]</script></html>"
      ],
      "text/latex": [
       "$$\\newcommand{\\Bold}[1]{\\mathbf{#1}}\\left[\\begin{array}{rrrrr}\n",
       "1 & 0 & 0 & 0 & 0 \\\\\n",
       "0 & 1 & 0 & 1 & 0 \\\\\n",
       "0 & 0 & 1 & 1 & 1 \\\\\n",
       "0 & 0 & 0 & 1 & 0 \\\\\n",
       "0 & 0 & 0 & 0 & 1\n",
       "\\end{array}\\right]$$"
      ],
      "text/plain": [
       "[1 0 0 0 0]\n",
       "[0 1 0 1 0]\n",
       "[0 0 1 1 1]\n",
       "[0 0 0 1 0]\n",
       "[0 0 0 0 1]"
      ]
     },
     "execution_count": 54,
     "metadata": {},
     "output_type": "execute_result"
    }
   ],
   "source": [
    "T"
   ]
  },
  {
   "cell_type": "code",
   "execution_count": 55,
   "metadata": {
    "scrolled": true
   },
   "outputs": [
    {
     "data": {
      "text/html": [
       "<html><script type=\"math/tex; mode=display\">\\newcommand{\\Bold}[1]{\\mathbf{#1}}\\left[\\begin{array}{rrr|rr}\n",
       "0 & 1 & 0 & 0 & 0 \\\\\n",
       "0 & 0 & 1 & 0 & 0 \\\\\n",
       "0 & 0 & 0 & 0 & 0 \\\\\n",
       "\\hline\n",
       " 0 & 0 & 0 & 0 & 1 \\\\\n",
       "0 & 0 & 0 & 0 & 0\n",
       "\\end{array}\\right]</script></html>"
      ],
      "text/latex": [
       "$$\\newcommand{\\Bold}[1]{\\mathbf{#1}}\\left[\\begin{array}{rrr|rr}\n",
       "0 & 1 & 0 & 0 & 0 \\\\\n",
       "0 & 0 & 1 & 0 & 0 \\\\\n",
       "0 & 0 & 0 & 0 & 0 \\\\\n",
       "\\hline\n",
       " 0 & 0 & 0 & 0 & 1 \\\\\n",
       "0 & 0 & 0 & 0 & 0\n",
       "\\end{array}\\right]$$"
      ],
      "text/plain": [
       "[0 1 0|0 0]\n",
       "[0 0 1|0 0]\n",
       "[0 0 0|0 0]\n",
       "[-----+---]\n",
       "[0 0 0|0 1]\n",
       "[0 0 0|0 0]"
      ]
     },
     "execution_count": 55,
     "metadata": {},
     "output_type": "execute_result"
    }
   ],
   "source": [
    "J"
   ]
  },
  {
   "cell_type": "code",
   "execution_count": 57,
   "metadata": {},
   "outputs": [
    {
     "data": {
      "text/html": [
       "<html><script type=\"math/tex; mode=display\">\\newcommand{\\Bold}[1]{\\mathbf{#1}}\\left[\\begin{array}{rrrrr}\n",
       "0 & 1 & 0 & 1 & 0 \\\\\n",
       "0 & 0 & 1 & 1 & 0 \\\\\n",
       "0 & 0 & 0 & 0 & 1 \\\\\n",
       "0 & 0 & 0 & 0 & 1 \\\\\n",
       "0 & 0 & 0 & 0 & 0\n",
       "\\end{array}\\right]</script></html>"
      ],
      "text/latex": [
       "$$\\newcommand{\\Bold}[1]{\\mathbf{#1}}\\left[\\begin{array}{rrrrr}\n",
       "0 & 1 & 0 & 1 & 0 \\\\\n",
       "0 & 0 & 1 & 1 & 0 \\\\\n",
       "0 & 0 & 0 & 0 & 1 \\\\\n",
       "0 & 0 & 0 & 0 & 1 \\\\\n",
       "0 & 0 & 0 & 0 & 0\n",
       "\\end{array}\\right]$$"
      ],
      "text/plain": [
       "[0 1 0 1 0]\n",
       "[0 0 1 1 0]\n",
       "[0 0 0 0 1]\n",
       "[0 0 0 0 1]\n",
       "[0 0 0 0 0]"
      ]
     },
     "execution_count": 57,
     "metadata": {},
     "output_type": "execute_result"
    }
   ],
   "source": [
    "T**(-1)*J*T # verify"
   ]
  },
  {
   "cell_type": "markdown",
   "metadata": {},
   "source": [
    "### **Computing the RCF**"
   ]
  },
  {
   "cell_type": "code",
   "execution_count": 58,
   "metadata": {
    "scrolled": true
   },
   "outputs": [
    {
     "data": {
      "text/html": [
       "<html><script type=\"math/tex; mode=display\">\\newcommand{\\Bold}[1]{\\mathbf{#1}}\\left[\\begin{array}{r|rrrr}\n",
       "0 & 0 & 0 & 0 & 0 \\\\\n",
       "\\hline\n",
       " 0 & 0 & 0 & 0 & 0 \\\\\n",
       "0 & 1 & 0 & 0 & 0 \\\\\n",
       "0 & 0 & 1 & 0 & 0 \\\\\n",
       "0 & 0 & 0 & 1 & 0\n",
       "\\end{array}\\right]</script></html>"
      ],
      "text/latex": [
       "$$\\newcommand{\\Bold}[1]{\\mathbf{#1}}\\left[\\begin{array}{r|rrrr}\n",
       "0 & 0 & 0 & 0 & 0 \\\\\n",
       "\\hline\n",
       " 0 & 0 & 0 & 0 & 0 \\\\\n",
       "0 & 1 & 0 & 0 & 0 \\\\\n",
       "0 & 0 & 1 & 0 & 0 \\\\\n",
       "0 & 0 & 0 & 1 & 0\n",
       "\\end{array}\\right]$$"
      ],
      "text/plain": [
       "[0|0 0 0 0]\n",
       "[-+-------]\n",
       "[0|0 0 0 0]\n",
       "[0|1 0 0 0]\n",
       "[0|0 1 0 0]\n",
       "[0|0 0 1 0]"
      ]
     },
     "execution_count": 58,
     "metadata": {},
     "output_type": "execute_result"
    }
   ],
   "source": [
    "A = matrix(QQ,A)\n",
    "C = A.rational_form(format='right')\n",
    "C"
   ]
  },
  {
   "cell_type": "markdown",
   "metadata": {},
   "source": [
    "## Plotting Differential Equations"
   ]
  },
  {
   "cell_type": "markdown",
   "metadata": {},
   "source": [
    "It is often desirable to plot the system of equations when solving problems about stability analysis in the 2-D plane.  \n",
    "Here is a simple example of a two dimensional system from problem sheet week 8.  \n",
    "\n",
    "$$\n",
    "\\begin{aligned}\n",
    "\\dot{x} &= -x+y-x^3 \\\\\n",
    "\\dot{y} &= -x-y-y^3\n",
    "\\end{aligned}\n",
    "$$  "
   ]
  },
  {
   "cell_type": "code",
   "execution_count": 21,
   "metadata": {},
   "outputs": [
    {
     "data": {
      "text/html": [
       "<html><script type=\"math/tex; mode=display\">\\newcommand{\\Bold}[1]{\\mathbf{#1}}\\verb|<module|\\phantom{\\verb!x!}\\verb|'matplotlib.pyplot'|\\phantom{\\verb!x!}\\verb|from|\\phantom{\\verb!x!}\\verb|'/opt/sagemath-9.3/local/lib/python3.7/site-packages/matplotlib/pyplot.py'>|</script></html>"
      ],
      "text/latex": [
       "$$\\newcommand{\\Bold}[1]{\\mathbf{#1}}\\verb|<module|\\phantom{\\verb!x!}\\verb|'matplotlib.pyplot'|\\phantom{\\verb!x!}\\verb|from|\\phantom{\\verb!x!}\\verb|'/opt/sagemath-9.3/local/lib/python3.7/site-packages/matplotlib/pyplot.py'>|$$"
      ],
      "text/plain": [
       "<module 'matplotlib.pyplot' from '/opt/sagemath-9.3/local/lib/python3.7/site-packages/matplotlib/pyplot.py'>"
      ]
     },
     "metadata": {},
     "output_type": "display_data"
    },
    {
     "data": {
      "text/html": [
       "<html><script type=\"math/tex; mode=display\">\\newcommand{\\Bold}[1]{\\mathbf{#1}}\\verb|Figure(3000x1500)|</script></html>"
      ],
      "text/latex": [
       "$$\\newcommand{\\Bold}[1]{\\mathbf{#1}}\\verb|Figure(3000x1500)|$$"
      ],
      "text/plain": [
       "<Figure size 3000x1500 with 1 Axes>"
      ]
     },
     "metadata": {
      "needs_background": "light"
     },
     "output_type": "display_data"
    }
   ],
   "source": [
    "import numpy as np\n",
    "import matplotlib.pyplot as plt\n",
    "from scipy.integrate import odeint\n",
    "\n",
    "lim = 3 # upper and lower limits of initial values\n",
    "N = 1000 # no. of time slices, higher is (ususally) more accurate and makes the plot smoother\n",
    "\n",
    "def du_dt(u, t):\n",
    "    # Defines the system of equations\n",
    "    '''\n",
    "    - u: 2-D vector\n",
    "    - t: 1-D real\n",
    "    '''\n",
    "    x = u[0]\n",
    "    y = u[1]\n",
    "    \n",
    "    # 2-dim nonlinear system  \n",
    "    dxdt = -x + y - x**3\n",
    "    dydt = -x - y - y**3\n",
    "    \n",
    "    return [dxdt, dydt]\n",
    "\n",
    "# Trajectories in forward time.\n",
    "\n",
    "ts = np.linspace(0, 100, N)\n",
    "\n",
    "I = np.linspace(-lim, lim, 10) # range of initial values I*I interval in R^2\n",
    "\n",
    "for x0 in I:\n",
    "    # outer loop is the initial values of x\n",
    "    for y0 in I:\n",
    "        # inner loop is the initial values of y\n",
    "        u0 = [x0, y0]\n",
    "        xs = odeint(du_dt, u0, ts) # using built-in methods for integrating\n",
    "        plt.plot(xs[:,0], xs[:,1], \"b-\") #  plot\n",
    "        \n",
    "#######################################################################################################\n",
    "#######################################################################################################\n",
    "# Now plot the vector field  \n",
    "\n",
    "lim = 1 # limits of x, y values\n",
    "n = 20 # no. of spacings, higher is denser\n",
    "x, y = np.meshgrid(np.linspace(-lim, lim, n), np.linspace(-lim, lim, n))\n",
    "\n",
    "dxdt = -x + y - x**3\n",
    "dydt = -x - y - y**3\n",
    "\n",
    "plt.quiver(x,y,dxdt,dydt, color = 'r')\n",
    "\n",
    "fig = plt.gcf() # get figure\n",
    "fig.set_size_inches(10,5) # set figure size\n",
    "fig.set_dpi(300) # set figure resolution\n",
    "\n",
    "# labelling\n",
    "plt.xlabel(\"x\", fontsize=15) \n",
    "plt.ylabel(\"y\", fontsize=15)\n",
    "plt.tick_params(labelsize=15)\n",
    "\n",
    "# setting limits for x-y axis\n",
    "plt.xlim(-lim, lim)\n",
    "plt.ylim(-lim, lim)\n",
    "\n",
    "show(plt)"
   ]
  },
  {
   "cell_type": "code",
   "execution_count": null,
   "metadata": {},
   "outputs": [],
   "source": []
  }
 ],
 "metadata": {
  "kernelspec": {
   "display_name": "SageMath 9.3",
   "language": "sage",
   "name": "sagemath"
  },
  "language_info": {
   "codemirror_mode": {
    "name": "ipython",
    "version": 3
   },
   "file_extension": ".py",
   "mimetype": "text/x-python",
   "name": "python",
   "nbconvert_exporter": "python",
   "pygments_lexer": "ipython3",
   "version": "3.7.10"
  }
 },
 "nbformat": 4,
 "nbformat_minor": 4
}
